{
  "cells": [
    {
      "cell_type": "markdown",
      "metadata": {
        "id": "eBijp-1VXl9N"
      },
      "source": [
        "# PromptTo3D prototype"
      ]
    },
    {
      "cell_type": "markdown",
      "metadata": {
        "id": "LumOBBUhXtIZ"
      },
      "source": [
        "## Initial setup"
      ]
    },
    {
      "cell_type": "code",
      "execution_count": null,
      "metadata": {
        "id": "a09YbQjiQsTs"
      },
      "outputs": [],
      "source": [
        "!git clone https://github.com/openai/shap-e         # Clone repo\n",
        "%cd shap-e\n",
        "!pip install -e .                                   # Install necessary dependencies from the repo"
      ]
    },
    {
      "cell_type": "markdown",
      "metadata": {
        "id": "wqmcEZWsXwz9"
      },
      "source": [
        "## Import scripts"
      ]
    },
    {
      "cell_type": "code",
      "execution_count": null,
      "metadata": {
        "id": "q490YRz2SKQT"
      },
      "outputs": [],
      "source": [
        "import txtTo3D, imgTo3D"
      ]
    },
    {
      "cell_type": "markdown",
      "metadata": {
        "id": "HsBqkpRYX1sX"
      },
      "source": [
        "## Text to 3D Model Generation"
      ]
    },
    {
      "cell_type": "code",
      "execution_count": null,
      "metadata": {
        "id": "Pgxly5VbSFjF"
      },
      "outputs": [],
      "source": [
        "# For text to 3D generation\n",
        "prompts = []\n",
        "while True:\n",
        "  prompt = input(\"Enter a prompt for 3D generation (or type 'done' to finish): \")\n",
        "  if prompt.lower() == 'done':\n",
        "    break\n",
        "  prompts.append(prompt)\n",
        "\n",
        "for prompt in prompts:\n",
        "  txtTo3D.txtTo3d(prompt, size_=128, render_mode_='nerf')"
      ]
    },
    {
      "cell_type": "markdown",
      "metadata": {
        "id": "QPshw2DEX7mX"
      },
      "source": [
        "## Image to 3D Model Generation"
      ]
    },
    {
      "cell_type": "code",
      "execution_count": null,
      "metadata": {
        "id": "hO1lM4VgSIYM"
      },
      "outputs": [],
      "source": [
        "# USING GOOGLE COLAB\n",
        "# For image to 3D generation\n",
        "# To get the best result, remove the background from the image, or use a plain background.\n",
        "from google.colab import files\n",
        "import io\n",
        "from PIL import Image\n",
        "\n",
        "uploaded = files.upload()\n",
        "\n",
        "# Process each uploaded file\n",
        "for filename, byte_content in uploaded.items():\n",
        "  # Convert the byte content to a PIL Image\n",
        "  image = Image.open(io.BytesIO(byte_content))\n",
        "\n",
        "  # Call the function with your image\n",
        "  imgTo3D.imgTo3D(image, size_=264, render_mode_='nerf')"
      ]
    },
    {
      "cell_type": "code",
      "execution_count": null,
      "metadata": {},
      "outputs": [],
      "source": [
        "# For NON-COLAB notebooks\n",
        "# For image to 3D generation using \n",
        "image = imgTo3D.load_image(\"PATH_OF_YOUR_IMAGE\")   # Load your image\n",
        "imgTo3D.imgTo3D(image, size_=264, render_mode_ ='nerf')   # Call the function with your image"
      ]
    }
  ],
  "metadata": {
    "accelerator": "GPU",
    "colab": {
      "gpuType": "T4",
      "provenance": []
    },
    "kernelspec": {
      "display_name": "Python 3",
      "name": "python3"
    },
    "language_info": {
      "name": "python"
    }
  },
  "nbformat": 4,
  "nbformat_minor": 0
}
