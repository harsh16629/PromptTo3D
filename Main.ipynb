{
  "nbformat": 4,
  "nbformat_minor": 0,
  "metadata": {
    "colab": {
      "provenance": [],
      "gpuType": "T4"
    },
    "kernelspec": {
      "name": "python3",
      "display_name": "Python 3"
    },
    "language_info": {
      "name": "python"
    },
    "accelerator": "GPU"
  },
  "cells": [
    {
      "cell_type": "markdown",
      "source": [
        "# PromptTo3D prototype"
      ],
      "metadata": {
        "id": "eBijp-1VXl9N"
      }
    },
    {
      "cell_type": "markdown",
      "source": [
        "## Initial setup"
      ],
      "metadata": {
        "id": "LumOBBUhXtIZ"
      }
    },
    {
      "cell_type": "code",
      "execution_count": null,
      "metadata": {
        "id": "a09YbQjiQsTs"
      },
      "outputs": [],
      "source": [
        "!git clone https://github.com/openai/shap-e         # Clone repo\n",
        "%cd shap-e\n",
        "!pip install -e .                                   # Install necessary dependencies from the repo"
      ]
    },
    {
      "cell_type": "markdown",
      "source": [
        "## Import scripts"
      ],
      "metadata": {
        "id": "wqmcEZWsXwz9"
      }
    },
    {
      "cell_type": "code",
      "source": [
        "%cd ..\n",
        "import txtTo3D, imgTo3D"
      ],
      "metadata": {
        "id": "q490YRz2SKQT"
      },
      "execution_count": null,
      "outputs": []
    },
    {
      "cell_type": "markdown",
      "source": [
        "## Text to 3D Model Generation"
      ],
      "metadata": {
        "id": "HsBqkpRYX1sX"
      }
    },
    {
      "cell_type": "code",
      "source": [
        "# For text to 3D generation\n",
        "txtTo3D.txtTo3d('A red apple with a green leaf')   # Call the function with your prompt"
      ],
      "metadata": {
        "id": "Pgxly5VbSFjF"
      },
      "execution_count": null,
      "outputs": []
    },
    {
      "cell_type": "markdown",
      "source": [
        "## Image to 3D Model Generation"
      ],
      "metadata": {
        "id": "QPshw2DEX7mX"
      }
    },
    {
      "cell_type": "code",
      "source": [
        "# For image to 3D generation\n",
        "# To get the best result, remove the background from the image, or use a plain background.\n",
        "image = imgTo3D.load_image(\"PATH_TO_YOUR_IMAGE\")   # Load your image\n",
        "imgTo3D.imgTo3D(image, size_=64, render_mode_ ='nerf')   # Call the function with your image"
      ],
      "metadata": {
        "id": "hO1lM4VgSIYM"
      },
      "execution_count": null,
      "outputs": []
    }
  ]
}